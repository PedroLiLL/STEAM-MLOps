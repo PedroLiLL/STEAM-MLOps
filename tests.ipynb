{
 "cells": [
  {
   "cell_type": "code",
   "execution_count": 2,
   "metadata": {},
   "outputs": [],
   "source": [
    "import numpy as np\n",
    "import pandas as pd"
   ]
  },
  {
   "cell_type": "code",
   "execution_count": 3,
   "metadata": {},
   "outputs": [
    {
     "data": {
      "text/html": [
       "<div>\n",
       "<style scoped>\n",
       "    .dataframe tbody tr th:only-of-type {\n",
       "        vertical-align: middle;\n",
       "    }\n",
       "\n",
       "    .dataframe tbody tr th {\n",
       "        vertical-align: top;\n",
       "    }\n",
       "\n",
       "    .dataframe thead th {\n",
       "        text-align: right;\n",
       "    }\n",
       "</style>\n",
       "<table border=\"1\" class=\"dataframe\">\n",
       "  <thead>\n",
       "    <tr style=\"text-align: right;\">\n",
       "      <th></th>\n",
       "      <th>genres</th>\n",
       "      <th>year_release</th>\n",
       "      <th>playtime_forever</th>\n",
       "      <th>user_id</th>\n",
       "    </tr>\n",
       "  </thead>\n",
       "  <tbody>\n",
       "    <tr>\n",
       "      <th>0</th>\n",
       "      <td>Action</td>\n",
       "      <td>2000</td>\n",
       "      <td>6</td>\n",
       "      <td>76561197970982479</td>\n",
       "    </tr>\n",
       "    <tr>\n",
       "      <th>1</th>\n",
       "      <td>Action</td>\n",
       "      <td>2000</td>\n",
       "      <td>0</td>\n",
       "      <td>js41637</td>\n",
       "    </tr>\n",
       "    <tr>\n",
       "      <th>2</th>\n",
       "      <td>Action</td>\n",
       "      <td>2000</td>\n",
       "      <td>0</td>\n",
       "      <td>Riot-Punch</td>\n",
       "    </tr>\n",
       "    <tr>\n",
       "      <th>3</th>\n",
       "      <td>Action</td>\n",
       "      <td>2000</td>\n",
       "      <td>93</td>\n",
       "      <td>doctr</td>\n",
       "    </tr>\n",
       "    <tr>\n",
       "      <th>4</th>\n",
       "      <td>Action</td>\n",
       "      <td>2000</td>\n",
       "      <td>108</td>\n",
       "      <td>corrupted_soul</td>\n",
       "    </tr>\n",
       "    <tr>\n",
       "      <th>...</th>\n",
       "      <td>...</td>\n",
       "      <td>...</td>\n",
       "      <td>...</td>\n",
       "      <td>...</td>\n",
       "    </tr>\n",
       "    <tr>\n",
       "      <th>7461478</th>\n",
       "      <td>Indie</td>\n",
       "      <td>2016</td>\n",
       "      <td>46</td>\n",
       "      <td>76561198071808318</td>\n",
       "    </tr>\n",
       "    <tr>\n",
       "      <th>7461479</th>\n",
       "      <td>Action</td>\n",
       "      <td>2016</td>\n",
       "      <td>164</td>\n",
       "      <td>76561198107283457</td>\n",
       "    </tr>\n",
       "    <tr>\n",
       "      <th>7461480</th>\n",
       "      <td>Casual</td>\n",
       "      <td>2016</td>\n",
       "      <td>164</td>\n",
       "      <td>76561198107283457</td>\n",
       "    </tr>\n",
       "    <tr>\n",
       "      <th>7461481</th>\n",
       "      <td>Indie</td>\n",
       "      <td>2016</td>\n",
       "      <td>164</td>\n",
       "      <td>76561198107283457</td>\n",
       "    </tr>\n",
       "    <tr>\n",
       "      <th>7461482</th>\n",
       "      <td>Simulation</td>\n",
       "      <td>2016</td>\n",
       "      <td>164</td>\n",
       "      <td>76561198107283457</td>\n",
       "    </tr>\n",
       "  </tbody>\n",
       "</table>\n",
       "<p>7461483 rows × 4 columns</p>\n",
       "</div>"
      ],
      "text/plain": [
       "             genres  year_release  playtime_forever            user_id\n",
       "0            Action          2000                 6  76561197970982479\n",
       "1            Action          2000                 0            js41637\n",
       "2            Action          2000                 0         Riot-Punch\n",
       "3            Action          2000                93              doctr\n",
       "4            Action          2000               108     corrupted_soul\n",
       "...             ...           ...               ...                ...\n",
       "7461478       Indie          2016                46  76561198071808318\n",
       "7461479      Action          2016               164  76561198107283457\n",
       "7461480      Casual          2016               164  76561198107283457\n",
       "7461481       Indie          2016               164  76561198107283457\n",
       "7461482  Simulation          2016               164  76561198107283457\n",
       "\n",
       "[7461483 rows x 4 columns]"
      ]
     },
     "execution_count": 3,
     "metadata": {},
     "output_type": "execute_result"
    }
   ],
   "source": [
    "items_games = pd.read_parquet('items_games_util.parquet')\n",
    "items_games"
   ]
  },
  {
   "cell_type": "code",
   "execution_count": 4,
   "metadata": {},
   "outputs": [
    {
     "data": {
      "text/plain": [
       "array(['Action', 'RPG', 'Strategy', 'Casual', 'Simulation', 'Indie',\n",
       "       'Racing', 'Sports', 'Adventure', 'Early Access', 'Free to Play',\n",
       "       'Massively Multiplayer', 'Utilities', 'Animation &amp; Modeling',\n",
       "       'Video Production', 'Design &amp; Illustration', 'Web Publishing',\n",
       "       'Education', 'Software Training', 'Photo Editing',\n",
       "       'Audio Production'], dtype=object)"
      ]
     },
     "execution_count": 4,
     "metadata": {},
     "output_type": "execute_result"
    }
   ],
   "source": [
    "generos = items_games['genres'].unique()\n",
    "generos"
   ]
  },
  {
   "cell_type": "code",
   "execution_count": 19,
   "metadata": {},
   "outputs": [],
   "source": [
    "def PlayTimeGenre(genero: str):\n",
    "    '''\n",
    "    devuelve el año con mas horas jugadas para dicho género\n",
    "\n",
    "    Args: \n",
    "        genero (str): género del juego\n",
    "\n",
    "    return:\n",
    "        dict: diccionario con el género X y el año de lanzamiento con más horas jugadas\n",
    "    \n",
    "    '''\n",
    "    diccionario = {'Action': 2012,\n",
    "                   'RPG': 2011,\n",
    "                   'Strategy': 2015,\n",
    "                   'Casual': 2017,\n",
    "                   'Simulation': 2006,\n",
    "                   'Indie': 2013,\n",
    "                   'Racing': 2016,\n",
    "                   'Sports': 2013,\n",
    "                   'Adventure': 2011,\n",
    "                   'Early Access': 2013,\n",
    "                   'Free to Play': 2017,\n",
    "                   'Massively Multiplayer': 2013,\n",
    "                   'Utilities': 2014,\n",
    "                   'Animation &amp; Modeling': 2015,\n",
    "                   'Video Production': 2015,\n",
    "                   'Design &amp; Illustration': 2012,\n",
    "                   'Web Publishing': 2012,\n",
    "                   'Education': 2015,\n",
    "                   'Software Training': 2015,\n",
    "                   'Photo Editing': 2015,\n",
    "                   'Audio Production': 2014}\n",
    "    \n",
    "    if genero in diccionario:\n",
    "        return {f'Año de lanzamiento con más horas jugadas para el género {genero}' : diccionario[genero]}\n",
    "    else:\n",
    "        return \"No se encontró un género similar al ingresado, ingrese otro tipo de género\""
   ]
  },
  {
   "cell_type": "code",
   "execution_count": 34,
   "metadata": {},
   "outputs": [
    {
     "data": {
      "text/plain": [
       "{'Año de lanzamiento con más horas jugadas para el género Indie': 2013}"
      ]
     },
     "execution_count": 34,
     "metadata": {},
     "output_type": "execute_result"
    }
   ],
   "source": [
    "PlayTimeGenre('Indie')"
   ]
  },
  {
   "cell_type": "code",
   "execution_count": 19,
   "metadata": {},
   "outputs": [],
   "source": [
    "def UserForGenre(genero: str):\n",
    "    '''\n",
    "    devuelve el usuario con mas minutos jugados para dicho género\n",
    "\n",
    "    Args: \n",
    "        genero (str): género del juego\n",
    "\n",
    "    return:\n",
    "        dict: diccionario con el género X y el usuario con más minutos jugados\n",
    "    \n",
    "    '''\n",
    "    # Filtramos el dataframe 'items_games_util' respecto al parámetro genero\n",
    "    df_util = items_games[items_games['genres']== genero]\n",
    "\n",
    "    # Agrupamos el dataframe anterior por usuario, suma de minutos de juego y ordenamos en forma descendente\n",
    "    agrupado = df_util.groupby('user_id')['playtime_forever'].sum().sort_values(ascending=False)\n",
    "\n",
    "    # El valor máximo tendrá índice [0]\n",
    "    user = agrupado.index[0]\n",
    "\n",
    "    # tomamos las filas del dataframe util que contengan su repsectivo usuario (user)\n",
    "    df_genero_user = df_util[df_util['user_id']==user]\n",
    "\n",
    "    # agrupamos respecto a los años y suma de minutos de juego\n",
    "    minutos_jugados = round(df_genero_user.groupby('year_release')['playtime_forever'].sum(), 3)\n",
    "\n",
    "    # Guardamos la serie 'minutos_jugados' en una lista\n",
    "    lista_minutos_jugados = [{f'Año': int(anio), 'Minutos': minutos} for anio, minutos in minutos_jugados.items()]\n",
    "\n",
    "    return {f\"Usuario con más minutos jugados para género {genero}\": user, \"Minutos jugados\": lista_minutos_jugados}"
   ]
  },
  {
   "cell_type": "code",
   "execution_count": 20,
   "metadata": {},
   "outputs": [
    {
     "data": {
      "text/plain": [
       "{'Usuario con más minutos jugados para género Web Publishing': 'H-Alo',\n",
       " 'Minutos jugados': [{'Año': 2005, 'Minutos': 11},\n",
       "  {'Año': 2012, 'Minutos': 5128},\n",
       "  {'Año': 2015, 'Minutos': 5414}]}"
      ]
     },
     "execution_count": 20,
     "metadata": {},
     "output_type": "execute_result"
    }
   ],
   "source": [
    "UserForGenre('Web Publishing')"
   ]
  }
 ],
 "metadata": {
  "kernelspec": {
   "display_name": "Python 3",
   "language": "python",
   "name": "python3"
  },
  "language_info": {
   "codemirror_mode": {
    "name": "ipython",
    "version": 3
   },
   "file_extension": ".py",
   "mimetype": "text/x-python",
   "name": "python",
   "nbconvert_exporter": "python",
   "pygments_lexer": "ipython3",
   "version": "3.11.6"
  }
 },
 "nbformat": 4,
 "nbformat_minor": 2
}
