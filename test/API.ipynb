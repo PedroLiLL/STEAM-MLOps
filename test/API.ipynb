{
 "cells": [
  {
   "cell_type": "code",
   "execution_count": 4,
   "metadata": {},
   "outputs": [],
   "source": [
    "import numpy as np\n",
    "import pandas as pd\n",
    "\n",
    "from sklearn.feature_extraction.text import CountVectorizer\n",
    "from sklearn.metrics.pairwise import cosine_similarity"
   ]
  },
  {
   "cell_type": "markdown",
   "metadata": {},
   "source": [
    "Cargamos las tablas normalizadas (según sus ruta)"
   ]
  },
  {
   "cell_type": "code",
   "execution_count": null,
   "metadata": {},
   "outputs": [],
   "source": [
    "items_games = pd.read_parquet('../STEAM-MLOps/items_games.parquet')\n",
    "reviews_games = pd.read_parquet('../STEAM-MLOps/reviews_games.parquet')\n",
    "\n",
    "steam_games = pd.read_parquet('../STEAM-MLOps/steam_games_ml.parquet')"
   ]
  },
  {
   "cell_type": "markdown",
   "metadata": {},
   "source": [
    "Observamos los géneros diferentes"
   ]
  },
  {
   "cell_type": "code",
   "execution_count": 5,
   "metadata": {},
   "outputs": [
    {
     "data": {
      "text/plain": [
       "array(['Action', 'Indie', 'Simulation', 'Adventure', 'RPG', 'Strategy',\n",
       "       'Free to Play', 'Massively Multiplayer', 'Casual', 'Early Access',\n",
       "       'Animation &amp; Modeling', 'Video Production', 'Racing', 'Sports',\n",
       "       'Audio Production', 'Software Training', 'Utilities',\n",
       "       'Design &amp; Illustration', 'Web Publishing', 'Education'],\n",
       "      dtype=object)"
      ]
     },
     "execution_count": 5,
     "metadata": {},
     "output_type": "execute_result"
    }
   ],
   "source": [
    "reviews_games['genres'].unique()"
   ]
  },
  {
   "cell_type": "code",
   "execution_count": 13,
   "metadata": {},
   "outputs": [
    {
     "data": {
      "text/html": [
       "<div>\n",
       "<style scoped>\n",
       "    .dataframe tbody tr th:only-of-type {\n",
       "        vertical-align: middle;\n",
       "    }\n",
       "\n",
       "    .dataframe tbody tr th {\n",
       "        vertical-align: top;\n",
       "    }\n",
       "\n",
       "    .dataframe thead th {\n",
       "        text-align: right;\n",
       "    }\n",
       "</style>\n",
       "<table border=\"1\" class=\"dataframe\">\n",
       "  <thead>\n",
       "    <tr style=\"text-align: right;\">\n",
       "      <th></th>\n",
       "      <th>item_id</th>\n",
       "      <th>title</th>\n",
       "      <th>description</th>\n",
       "    </tr>\n",
       "  </thead>\n",
       "  <tbody>\n",
       "    <tr>\n",
       "      <th>0</th>\n",
       "      <td>761140</td>\n",
       "      <td>Lost Summoner Kitty</td>\n",
       "      <td>Action, Casual, Indie, Simulation, Strategy, S...</td>\n",
       "    </tr>\n",
       "    <tr>\n",
       "      <th>1</th>\n",
       "      <td>643980</td>\n",
       "      <td>Ironbound</td>\n",
       "      <td>Free to Play, Indie, RPG, Strategy, Free to Pl...</td>\n",
       "    </tr>\n",
       "    <tr>\n",
       "      <th>2</th>\n",
       "      <td>670290</td>\n",
       "      <td>Real Pool 3D - Poolians</td>\n",
       "      <td>Casual, Free to Play, Indie, Simulation, Sport...</td>\n",
       "    </tr>\n",
       "    <tr>\n",
       "      <th>3</th>\n",
       "      <td>767400</td>\n",
       "      <td>弹炸人2222</td>\n",
       "      <td>Action, Adventure, Casual, Action, Adventure, ...</td>\n",
       "    </tr>\n",
       "    <tr>\n",
       "      <th>4</th>\n",
       "      <td>772540</td>\n",
       "      <td>Battle Royale Trainer</td>\n",
       "      <td>Action, Adventure, Simulation, Action, Adventu...</td>\n",
       "    </tr>\n",
       "    <tr>\n",
       "      <th>...</th>\n",
       "      <td>...</td>\n",
       "      <td>...</td>\n",
       "      <td>...</td>\n",
       "    </tr>\n",
       "    <tr>\n",
       "      <th>28233</th>\n",
       "      <td>745400</td>\n",
       "      <td>Kebab it Up!</td>\n",
       "      <td>Action, Adventure, Casual, Indie, Action, Indi...</td>\n",
       "    </tr>\n",
       "    <tr>\n",
       "      <th>28234</th>\n",
       "      <td>773640</td>\n",
       "      <td>Colony On Mars</td>\n",
       "      <td>Casual, Indie, Simulation, Strategy, Strategy,...</td>\n",
       "    </tr>\n",
       "    <tr>\n",
       "      <th>28235</th>\n",
       "      <td>733530</td>\n",
       "      <td>LOGistICAL: South Africa</td>\n",
       "      <td>Casual, Indie, Strategy, Strategy, Indie, Casu...</td>\n",
       "    </tr>\n",
       "    <tr>\n",
       "      <th>28236</th>\n",
       "      <td>610660</td>\n",
       "      <td>Russian Roads</td>\n",
       "      <td>Indie, Racing, Simulation, Indie, Simulation, ...</td>\n",
       "    </tr>\n",
       "    <tr>\n",
       "      <th>28237</th>\n",
       "      <td>658870</td>\n",
       "      <td>EXIT 2 - Directions</td>\n",
       "      <td>Casual, Indie, Indie, Casual, Puzzle, Singlepl...</td>\n",
       "    </tr>\n",
       "  </tbody>\n",
       "</table>\n",
       "<p>28238 rows × 3 columns</p>\n",
       "</div>"
      ],
      "text/plain": [
       "       item_id                     title  \\\n",
       "0       761140       Lost Summoner Kitty   \n",
       "1       643980                 Ironbound   \n",
       "2       670290   Real Pool 3D - Poolians   \n",
       "3       767400                   弹炸人2222   \n",
       "4       772540     Battle Royale Trainer   \n",
       "...        ...                       ...   \n",
       "28233   745400              Kebab it Up!   \n",
       "28234   773640            Colony On Mars   \n",
       "28235   733530  LOGistICAL: South Africa   \n",
       "28236   610660             Russian Roads   \n",
       "28237   658870       EXIT 2 - Directions   \n",
       "\n",
       "                                             description  \n",
       "0      Action, Casual, Indie, Simulation, Strategy, S...  \n",
       "1      Free to Play, Indie, RPG, Strategy, Free to Pl...  \n",
       "2      Casual, Free to Play, Indie, Simulation, Sport...  \n",
       "3      Action, Adventure, Casual, Action, Adventure, ...  \n",
       "4      Action, Adventure, Simulation, Action, Adventu...  \n",
       "...                                                  ...  \n",
       "28233  Action, Adventure, Casual, Indie, Action, Indi...  \n",
       "28234  Casual, Indie, Simulation, Strategy, Strategy,...  \n",
       "28235  Casual, Indie, Strategy, Strategy, Indie, Casu...  \n",
       "28236  Indie, Racing, Simulation, Indie, Simulation, ...  \n",
       "28237  Casual, Indie, Indie, Casual, Puzzle, Singlepl...  \n",
       "\n",
       "[28238 rows x 3 columns]"
      ]
     },
     "execution_count": 13,
     "metadata": {},
     "output_type": "execute_result"
    }
   ],
   "source": [
    "steam_games"
   ]
  },
  {
   "cell_type": "markdown",
   "metadata": {},
   "source": [
    "## Procedemos con la librería **pandas**"
   ]
  },
  {
   "cell_type": "markdown",
   "metadata": {},
   "source": [
    "### Funciones"
   ]
  },
  {
   "cell_type": "code",
   "execution_count": 6,
   "metadata": {},
   "outputs": [],
   "source": [
    "def PlayTimeGenre(genero: str):\n",
    "    '''\n",
    "    devuelve el año con mas horas jugadas para dicho género\n",
    "\n",
    "    Args: \n",
    "        genero (str): género del juego\n",
    "\n",
    "    return:\n",
    "        dict: diccionario con el género X y el año de lanzamiento con más horas jugadas\n",
    "    \n",
    "    '''\n",
    "    # Filtramos el dataframe 'items_games' respecto al parámetro genero\n",
    "    df_util = items_games[items_games['genres']== genero]\n",
    "    \n",
    "    # Agrupamos el dataframe anterior por año de lanzamiento, suma de minutos de juego y ordenamos en forma descendente\n",
    "    agrupado = df_util.groupby('year_release')['playtime_forever'].sum().sort_values(ascending=False)\n",
    "\n",
    "    # El valor máximo tendrá índice [0]\n",
    "    anio = agrupado.index[0]\n",
    "    \n",
    "    return {f\"Año de lanzamiento con más horas jugadas para el género {genero}\": int(anio)}"
   ]
  },
  {
   "cell_type": "code",
   "execution_count": 7,
   "metadata": {},
   "outputs": [
    {
     "data": {
      "text/plain": [
       "{'Año de lanzamiento con más horas jugadas para el género Action': 2012}"
      ]
     },
     "execution_count": 7,
     "metadata": {},
     "output_type": "execute_result"
    }
   ],
   "source": [
    "PlayTimeGenre('Action')"
   ]
  },
  {
   "cell_type": "code",
   "execution_count": 8,
   "metadata": {},
   "outputs": [],
   "source": [
    "def UserForGenre(genero: str):\n",
    "    '''\n",
    "    devuelve el usuario con mas horas jugadas para dicho género\n",
    "\n",
    "    Args: \n",
    "        genero (str): género del juego\n",
    "\n",
    "    return:\n",
    "        dict: diccionario con el género X y el usuario con más horas jugadas\n",
    "    \n",
    "    '''\n",
    "    # Filtramos el dataframe 'items_games' respecto al parámetro genero\n",
    "    df_util = items_games[items_games['genres']== genero]\n",
    "\n",
    "    # Agrupamos el dataframe anterior por usuario, suma de minutos de juego y ordenamos en forma descendente\n",
    "    agrupado = df_util.groupby('user_id')['playtime_forever'].sum().sort_values(ascending=False)\n",
    "\n",
    "    # El valor máximo tendrá índice [0]\n",
    "    user = agrupado.index[0]\n",
    "\n",
    "    # tomamos las filas del dataframe util que contengan su repsectivo usuario (user)\n",
    "    df_genero_user = df_util[df_util['user_id']==user]\n",
    "\n",
    "    # agrupamos respecto a los años y suma de minutos de juego y convertimos a horas de juego\n",
    "    horas_jugadas = round(df_genero_user.groupby('year_release')['playtime_forever'].sum()/60, 3)\n",
    "\n",
    "    # Guardamos la serie 'horas_jugadas' en una lista\n",
    "    lista_horas_jugadas = [f'Año: {int(anio)}, Horas: {horas}' for anio, horas in horas_jugadas.items()]\n",
    "\n",
    "    return {f\"Usuario con más horas jugadas para género {genero}\": user, \"Horas jugadas\": lista_horas_jugadas}"
   ]
  },
  {
   "cell_type": "code",
   "execution_count": 9,
   "metadata": {},
   "outputs": [
    {
     "data": {
      "text/plain": [
       "{'Usuario con más horas jugadas para género Action': 'REBAS_AS_F-T',\n",
       " 'Horas jugadas': ['Año: 1996, Horas: 0.0',\n",
       "  'Año: 1998, Horas: 0.033',\n",
       "  'Año: 1999, Horas: 3.75',\n",
       "  'Año: 2000, Horas: 0.0',\n",
       "  'Año: 2001, Horas: 0.183',\n",
       "  'Año: 2002, Horas: 0.017',\n",
       "  'Año: 2003, Horas: 31.05',\n",
       "  'Año: 2004, Horas: 35.25',\n",
       "  'Año: 2005, Horas: 54.883',\n",
       "  'Año: 2006, Horas: 2.3',\n",
       "  'Año: 2007, Horas: 6.25',\n",
       "  'Año: 2008, Horas: 42.883',\n",
       "  'Año: 2009, Horas: 132.1',\n",
       "  'Año: 2010, Horas: 74.333',\n",
       "  'Año: 2011, Horas: 628.417',\n",
       "  'Año: 2012, Horas: 843.917',\n",
       "  'Año: 2013, Horas: 1626.1',\n",
       "  'Año: 2014, Horas: 2635.233',\n",
       "  'Año: 2015, Horas: 2707.533',\n",
       "  'Año: 2016, Horas: 2309.533',\n",
       "  'Año: 2017, Horas: 33.167']}"
      ]
     },
     "execution_count": 9,
     "metadata": {},
     "output_type": "execute_result"
    }
   ],
   "source": [
    "UserForGenre('Action')"
   ]
  },
  {
   "cell_type": "code",
   "execution_count": 10,
   "metadata": {},
   "outputs": [],
   "source": [
    "def UserRecommend(anio: int):\n",
    "    '''\n",
    "    devuelve el top 3 de juegos MÁS recomendados por usuarios para el año dado.\n",
    "    \n",
    "    Args: \n",
    "        anio (int): año de consulta\n",
    "\n",
    "    return:\n",
    "        dict: diccionario con los 3 juegos más recomendados por usuarios\n",
    "        ->  reviews['recommend'] = True(1)\n",
    "        ->  comentarios positivos(2) o neutros(1)\n",
    "\n",
    "    '''\n",
    "    # Si el año de lanzamiento(year_release) no coincide con alguno de los años en los que se hace una reseña(year_posted), se retorna un mensaje de erro\n",
    "    if anio not in reviews_games['year_posted'].unique():\n",
    "        return f\"Año fuera de rango, ingrese un año válido\"\n",
    "    \n",
    "    else:\n",
    "        # Filtramos el dataframe con las filas cuyo año de posteo(year_posted) es mayor o igual al año de publicación(year_release)\n",
    "        df = reviews_games[reviews_games['year_posted']>=reviews_games['year_release']]\n",
    "        \n",
    "        # Filtramos el dataframe 'df' para el año parámetro y la columna sentiment_analysis sea positivo(2) o neutro(1)\n",
    "        df_anio_dado = df[(df['year_posted']==anio) & (df['sentiment_analysis'].isin([1,2]))]\n",
    "\n",
    "        # Agrupamos el dataframe 'df_anio_dado' por título del juego ('title'), sumamos las recomendaciones('recommend') para tener los juegos más recomendados y ordenamos de forma descendente\n",
    "        top = df_anio_dado.groupby('title')['recommend'].sum().sort_values(ascending=False)\n",
    "\n",
    "        # Construimos el top3\n",
    "        top3 = [{\"Puesto 1\": top.index[0]}, {\"Puesto 2\": top.index[1]}, {\"Puesto 3\": top.index[2]}]\n",
    "\n",
    "    return top3"
   ]
  },
  {
   "cell_type": "code",
   "execution_count": 11,
   "metadata": {},
   "outputs": [
    {
     "data": {
      "text/plain": [
       "[{'Puesto 1': 'Team Fortress 2'},\n",
       " {'Puesto 2': 'Terraria'},\n",
       " {'Puesto 3': 'Realm of the Mad God'}]"
      ]
     },
     "execution_count": 11,
     "metadata": {},
     "output_type": "execute_result"
    }
   ],
   "source": [
    "UserRecommend(2012)"
   ]
  },
  {
   "cell_type": "code",
   "execution_count": 12,
   "metadata": {},
   "outputs": [],
   "source": [
    "def UsersNotRecommend(anio: int):\n",
    "    '''\n",
    "    devuelve el top 3 de juegos MENOS recomendados por usuarios para el año dado.\n",
    "    \n",
    "    Args: \n",
    "        anio (int): año de consulta\n",
    "\n",
    "    return:\n",
    "        dict: diccionario con los 3 juegos menos recomendados por usuarios\n",
    "        ->  reviews['recommend'] = False(0)\n",
    "        ->  comentarios negativos(reviews['sentiment_analysis']==0)\n",
    "\n",
    "    '''\n",
    "    # Si el año de lanzamiento(year_release) no coincide con alguno de los años en los que se hace una reseña(year_posted), se retorna un mensaje de erro\n",
    "    if anio not in reviews_games['year_posted'].unique():\n",
    "        return f\"Año fuera de rango, ingrese un año válido\"\n",
    "    \n",
    "    else:\n",
    "        # Filtramos el dataframe con las filas cuyo año de posteo(year_posted) es mayor o igual al año de publicación(year_release)\n",
    "        df = reviews_games[reviews_games['year_posted']>=reviews_games['year_release']]\n",
    "\n",
    "        #Ahora filtramos por el año parámetro, recomendaciones negativas(0) y comentarios negativos (0)\n",
    "        df_anio_dado = df[(df['year_posted']==anio) & (df['recommend']==0) & (df['sentiment_analysis']==0)]\n",
    "\n",
    "        # Agrupamos respecto al año título del juego, contamos las recomendaciones('recommend') para tener los juegos con más reseñas negtivas y ordenamos de forma descendente\n",
    "        grupo = df_anio_dado.groupby('title')['recommend'].count().sort_values(ascending=False)\n",
    "\n",
    "        # Contruimos el top3\n",
    "        top3 = [{\"Puesto 1\": grupo.index[0]}, {\"Puesto 2\": grupo.index[1]}, {\"Puesto 3\": grupo.index[2]}]\n",
    "\n",
    "        return top3"
   ]
  },
  {
   "cell_type": "code",
   "execution_count": 13,
   "metadata": {},
   "outputs": [
    {
     "data": {
      "text/plain": [
       "[{'Puesto 1': 'Half-Life: Before'},\n",
       " {'Puesto 2': 'Team Fortress 2'},\n",
       " {'Puesto 3': 'Tactical Intervention'}]"
      ]
     },
     "execution_count": 13,
     "metadata": {},
     "output_type": "execute_result"
    }
   ],
   "source": [
    "UsersNotRecommend(2013)"
   ]
  },
  {
   "cell_type": "code",
   "execution_count": 14,
   "metadata": {},
   "outputs": [],
   "source": [
    "def sentiment_analysis(anio: int):\n",
    "    '''\n",
    "    Según el año de lanzamiento, devuelve una lista con la cantidad de registros de reseñas de usuarios que se encuentren categorizados con un análisis de sentimiento\n",
    "\n",
    "    Args: \n",
    "        anio (int): año de lanzamiento (year_release)\n",
    "\n",
    "    return:\n",
    "        list: lista con la cantidad de registros de reseñas de usuarios categorizados\n",
    "\n",
    "    '''\n",
    "    # Si el año de lanzamiento(year_release) no coincide con alguno de los años en los que se hace una reseña(year_posted), se retorna un mensaje de erro\n",
    "    if anio not in reviews_games['year_posted'].unique():\n",
    "        return f\"Año fuera de rango, ingrese un año válido\"\n",
    "    \n",
    "    else:\n",
    "        # Filtramos el dataframe con las filas cuyo año de posteo(year_posted) es mayor o igual al año de publicación(year_release)\n",
    "        df = reviews_games[reviews_games['year_posted']>=reviews_games['year_release']]\n",
    "\n",
    "        # Filtramos el dataframe 'df' para el año parámetro\n",
    "        df_anio = df[df['year_release'] == anio]\n",
    "\n",
    "        # Contamos las filas del dataframe 'df_anio' respecto a los valores únicos de la columna 'sentiment_analysis' {0,1,2} y los guardamos en sus respectivos sentimientos\n",
    "        positivos = df_anio[df_anio['sentiment_analysis']==2].shape[0] # número de filas de sentimientos positivos(2)\n",
    "        neutros = df_anio[df_anio['sentiment_analysis']==1].shape[0] # número de filas de sentimientos nneutros(1)\n",
    "        negativos = df_anio[df_anio['sentiment_analysis']==0].shape[0] # número de filas de sentimientos negativos(0)\n",
    "\n",
    "        return {'Negative': negativos, 'Neutral': neutros, 'Positive': positivos}"
   ]
  },
  {
   "cell_type": "code",
   "execution_count": 15,
   "metadata": {},
   "outputs": [
    {
     "data": {
      "text/plain": [
       "{'Negative': 2372, 'Neutral': 2843, 'Positive': 9733}"
      ]
     },
     "execution_count": 15,
     "metadata": {},
     "output_type": "execute_result"
    }
   ],
   "source": [
    "sentiment_analysis(2012)"
   ]
  },
  {
   "cell_type": "markdown",
   "metadata": {},
   "source": [
    "### Modelo 1"
   ]
  },
  {
   "cell_type": "markdown",
   "metadata": {},
   "source": [
    "Utilizamos la clase `CountVectorizer` de scikit para convertir las descripciones en representaciones numéricas y el método `cosine_similarity` para evaluar la similitud coseno de las descripciones"
   ]
  },
  {
   "cell_type": "code",
   "execution_count": 12,
   "metadata": {},
   "outputs": [
    {
     "name": "stdout",
     "output_type": "stream",
     "text": [
      "994594816\n"
     ]
    },
    {
     "name": "stderr",
     "output_type": "stream",
     "text": [
      "C:\\Users\\PC - Usuario\\AppData\\Local\\Packages\\PythonSoftwareFoundation.Python.3.11_qbz5n2kfra8p0\\LocalCache\\local-packages\\Python311\\site-packages\\sklearn\\feature_extraction\\text.py:525: UserWarning: The parameter 'token_pattern' will not be used since 'tokenizer' is not None'\n",
      "  warnings.warn(\n"
     ]
    }
   ],
   "source": [
    "import psutil\n",
    "\n",
    "# Creamos una instancia de la clase CountVectorizer\n",
    "vector = CountVectorizer(tokenizer= lambda x: x.split(', '))\n",
    "\n",
    "# Dividimos cada cadena de descripción en palabras individuales y se crea una matriz de conteo 'matriz_descripcion' que representa cuántas veces aparece cada género en cada videojuego.\n",
    "matriz_descripcion = vector.fit_transform(steam_games['description'])\n",
    "\n",
    "def recomendacion_juego(id_producto: int):\n",
    "    '''\n",
    "    Se ingresa el id de producto (item_id) y retorna una lista con 5 juegos recomendados similares al ingresado (title).\n",
    "    \n",
    "    '''\n",
    "    # Si el id ingresado no se encuentra en la columna de id de la tabla 'steam_games' se le pide al usuario que intente con otro id\n",
    "    if id_producto not in steam_games['item_id'].values:\n",
    "        return 'El ID no existe, intente con otro'\n",
    "    else:\n",
    "        # buscamos el índice del id ingresado\n",
    "        index = steam_games.index[steam_games['item_id']==id_producto][0]\n",
    "\n",
    "        # De la matriz de conteo, tomamos el array de descripciones con índice igual a 'index'\n",
    "        description_index = matriz_descripcion[index]\n",
    "\n",
    "        # Calculamos la similitud coseno entre la descripción de entrada y la descripción de las demás filas: cosine_similarity(description_index, matriz_descripcion)\n",
    "        # Obtenemos los índices de las mayores similitudes mediante el método argsort() y las similitudes ordenadas de manera descendente\n",
    "        # Tomamos los índices del 1 al 6 [0, 1:6] ya que el índice 0 es el mismo índice de entrada\n",
    "        indices_maximos = np.argsort(-cosine_similarity(description_index, matriz_descripcion))[0, 1:6]\n",
    "\n",
    "        # Construimos la lista\n",
    "        recomendaciones = []\n",
    "        for i in indices_maximos:\n",
    "            recomendaciones.append(steam_games['title'][i])\n",
    "        \n",
    "        return recomendaciones\n",
    "\n",
    "print(psutil.Process().memory_info().rss)"
   ]
  },
  {
   "cell_type": "code",
   "execution_count": 11,
   "metadata": {},
   "outputs": [
    {
     "data": {
      "text/plain": [
       "['Dark Snow',\n",
       " 'M1: A Death in the Desert',\n",
       " 'The Moon Night',\n",
       " 'Swingin Swiggins',\n",
       " 'Cyborg Arena']"
      ]
     },
     "execution_count": 11,
     "metadata": {},
     "output_type": "execute_result"
    }
   ],
   "source": [
    "recomendacion_juego(745400)"
   ]
  }
 ],
 "metadata": {
  "kernelspec": {
   "display_name": "Python 3",
   "language": "python",
   "name": "python3"
  },
  "language_info": {
   "codemirror_mode": {
    "name": "ipython",
    "version": 3
   },
   "file_extension": ".py",
   "mimetype": "text/x-python",
   "name": "python",
   "nbconvert_exporter": "python",
   "pygments_lexer": "ipython3",
   "version": "3.11.6"
  }
 },
 "nbformat": 4,
 "nbformat_minor": 2
}
