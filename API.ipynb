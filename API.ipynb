{
 "cells": [
  {
   "cell_type": "code",
   "execution_count": 1,
   "metadata": {},
   "outputs": [],
   "source": [
    "import numpy as np\n",
    "import pandas as pd\n",
    "import time"
   ]
  },
  {
   "cell_type": "markdown",
   "metadata": {},
   "source": [
    "Cargamos las tablas normalizadas (según sus ruta)"
   ]
  },
  {
   "cell_type": "code",
   "execution_count": 2,
   "metadata": {},
   "outputs": [],
   "source": [
    "items_games = pd.read_parquet('items_games.parquet')\n",
    "reviews_games = pd.read_parquet('reviews_games.parquet')"
   ]
  },
  {
   "cell_type": "markdown",
   "metadata": {},
   "source": [
    "Observamos los géneros diferentes"
   ]
  },
  {
   "cell_type": "code",
   "execution_count": 5,
   "metadata": {},
   "outputs": [
    {
     "data": {
      "text/plain": [
       "array(['Action', 'Indie', 'Simulation', 'Adventure', 'RPG', 'Strategy',\n",
       "       'Free to Play', 'Massively Multiplayer', 'Casual', 'Early Access',\n",
       "       'Animation &amp; Modeling', 'Video Production', 'Racing', 'Sports',\n",
       "       'Audio Production', 'Software Training', 'Utilities',\n",
       "       'Design &amp; Illustration', 'Web Publishing', 'Education'],\n",
       "      dtype=object)"
      ]
     },
     "execution_count": 5,
     "metadata": {},
     "output_type": "execute_result"
    }
   ],
   "source": [
    "reviews_games['genres'].unique()"
   ]
  },
  {
   "cell_type": "markdown",
   "metadata": {},
   "source": [
    "Construimos las funciones"
   ]
  },
  {
   "cell_type": "code",
   "execution_count": 4,
   "metadata": {},
   "outputs": [],
   "source": [
    "def PlayTimeGenre(genero: str):\n",
    "    '''\n",
    "    devuelve el año con mas horas jugadas para dicho género\n",
    "\n",
    "    Args: \n",
    "        genero (str): género del juego\n",
    "\n",
    "    return:\n",
    "        dict: diccionario con el género X y el año de lanzamiento con más horas jugadas\n",
    "    \n",
    "    '''\n",
    "    # Filtramos el dataframe 'items_games' respecto al parámetro genero\n",
    "    df_util = items_games[items_games['genres']== genero]\n",
    "    \n",
    "    # Agrupamos el dataframe anterior por año de lanzamiento, suma de minutos de juego y ordenamos en forma descendente\n",
    "    agrupado = df_util.groupby('year_release')['playtime_forever'].sum().sort_values(ascending=False)\n",
    "\n",
    "    # El valor máximo tendrá índice [0]\n",
    "    anio = agrupado.index[0]\n",
    "    \n",
    "    return {f\"Año de lanzamiento con más horas jugadas para el género {genero}\": int(anio)}"
   ]
  },
  {
   "cell_type": "code",
   "execution_count": 5,
   "metadata": {},
   "outputs": [
    {
     "data": {
      "text/plain": [
       "{'Año de lanzamiento con más horas jugadas para el género Education': 2015}"
      ]
     },
     "execution_count": 5,
     "metadata": {},
     "output_type": "execute_result"
    }
   ],
   "source": [
    "PlayTimeGenre('Education')"
   ]
  },
  {
   "cell_type": "code",
   "execution_count": 6,
   "metadata": {},
   "outputs": [],
   "source": [
    "def UserForGenre(genero: str):\n",
    "    '''\n",
    "    devuelve el usuario con mas horas jugadas para dicho género\n",
    "\n",
    "    Args: \n",
    "        genero (str): género del juego\n",
    "\n",
    "    return:\n",
    "        dict: diccionario con el género X y el usuario con más horas jugadas\n",
    "    \n",
    "    '''\n",
    "    # Filtramos el dataframe 'items_games' respecto al parámetro genero\n",
    "    df_util = items_games[items_games['genres']== genero]\n",
    "\n",
    "    # Agrupamos el dataframe anterior por usuario, suma de minutos de juego y ordenamos en forma descendente\n",
    "    agrupado = df_util.groupby('user_id')['playtime_forever'].sum().sort_values(ascending=False)\n",
    "\n",
    "    # El valor máximo tendrá índice [0]\n",
    "    user = agrupado.index[0]\n",
    "\n",
    "    # tomamos las filas del dataframe util que contengan su repsectivo usuario (user)\n",
    "    df_genero_user = df_util[df_util['user_id']==user]\n",
    "\n",
    "    # agrupamos respecto a los años y suma de minutos de juego y convertimos a horas de juego\n",
    "    horas_jugadas = round(df_genero_user.groupby('year_release')['playtime_forever'].sum()/60, 3)\n",
    "\n",
    "    # Guardamos la serie 'horas_jugadas' en una lista\n",
    "    lista_horas_jugadas = [f'Año: {int(anio)}, Horas: {horas}' for anio, horas in horas_jugadas.items()]\n",
    "\n",
    "    return {f\"Usuario con más horas jugadas para género {genero}\": user, \"Horas jugadas\": lista_horas_jugadas}"
   ]
  },
  {
   "cell_type": "code",
   "execution_count": 8,
   "metadata": {},
   "outputs": [
    {
     "data": {
      "text/plain": [
       "{'Usuario con más horas jugadas para género Software Training': '76561198045832825',\n",
       " 'Horas jugadas': ['Año: 2014, Horas: 89.05']}"
      ]
     },
     "execution_count": 8,
     "metadata": {},
     "output_type": "execute_result"
    }
   ],
   "source": [
    "UserForGenre('Software Training')"
   ]
  },
  {
   "cell_type": "code",
   "execution_count": 9,
   "metadata": {},
   "outputs": [],
   "source": [
    "def UserRecommend(anio: int):\n",
    "    '''\n",
    "    devuelve el top 3 de juegos MÁS recomendados por usuarios para el año dado.\n",
    "    \n",
    "    Args: \n",
    "        anio (int): año de consulta\n",
    "\n",
    "    return:\n",
    "        dict: diccionario con los 3 juegos más recomendados por usuarios\n",
    "        ->  reviews['recommend'] = True(1)\n",
    "        ->  comentarios positivos(2) o neutros(1)\n",
    "\n",
    "    '''\n",
    "    # Si el año de lanzamiento(year_release) no coincide con alguno de los años en los que se hace una reseña(year_posted), se retorna un mensaje de erro\n",
    "    if anio not in reviews_games['year_posted'].unique():\n",
    "        return f\"Año fuera de rango, ingrese un año válido\"\n",
    "    \n",
    "    else:\n",
    "        # Filtramos el dataframe con las filas cuyo año de posteo(year_posted) es mayor o igual al año de publicación(year_release)\n",
    "        df = reviews_games[reviews_games['year_posted']>=reviews_games['year_release']]\n",
    "        \n",
    "        # Filtramos el dataframe 'df' para el año parámetro y la columna sentiment_analysis sea positivo(2) o neutro(1)\n",
    "        df_anio_dado = df[(df['year_posted']==anio) & (df['sentiment_analysis'].isin([1,2]))]\n",
    "\n",
    "        # Agrupamos el dataframe 'df_anio_dado' por título del juego ('title'), sumamos las recomendaciones('recommend') para tener los juegos más recomendados y ordenamos de forma descendente\n",
    "        top = df_anio_dado.groupby('title')['recommend'].sum().sort_values(ascending=False)\n",
    "\n",
    "        # Construimos el top3\n",
    "        top3 = [{\"Puesto 1\": top.index[0]}, {\"Puesto 2\": top.index[1]}, {\"Puesto 3\": top.index[2]}]\n",
    "\n",
    "    return top3"
   ]
  },
  {
   "cell_type": "code",
   "execution_count": 21,
   "metadata": {},
   "outputs": [
    {
     "data": {
      "text/plain": [
       "[{'Puesto 1': 'Team Fortress 2'},\n",
       " {'Puesto 2': \"Garry's Mod\"},\n",
       " {'Puesto 3': 'Terraria'}]"
      ]
     },
     "execution_count": 21,
     "metadata": {},
     "output_type": "execute_result"
    }
   ],
   "source": [
    "UserRecommend(2013)"
   ]
  },
  {
   "cell_type": "code",
   "execution_count": 31,
   "metadata": {},
   "outputs": [],
   "source": [
    "def UsersNotRecommend(anio: int):\n",
    "    '''\n",
    "    devuelve el top 3 de juegos MENOS recomendados por usuarios para el año dado.\n",
    "    \n",
    "    Args: \n",
    "        anio (int): año de consulta\n",
    "\n",
    "    return:\n",
    "        dict: diccionario con los 3 juegos menos recomendados por usuarios\n",
    "        ->  reviews['recommend'] = False(0)\n",
    "        ->  comentarios negativos(reviews['sentiment_analysis']==0)\n",
    "\n",
    "    '''\n",
    "    # Si el año de lanzamiento(year_release) no coincide con alguno de los años en los que se hace una reseña(year_posted), se retorna un mensaje de erro\n",
    "    if anio not in reviews_games['year_posted'].unique():\n",
    "        return f\"Año fuera de rango, ingrese un año válido\"\n",
    "    \n",
    "    else:\n",
    "        # Filtramos el dataframe con las filas cuyo año de posteo(year_posted) es mayor o igual al año de publicación(year_release)\n",
    "        df = reviews_games[reviews_games['year_posted']>=reviews_games['year_release']]\n",
    "\n",
    "        #Ahora filtramos por el año parámetro, recomendaciones negativas(0) y comentarios negativos (0)\n",
    "        df_anio_dado = df[(df['year_posted']==anio) & (df['recommend']==0) & (df['sentiment_analysis']==0)]\n",
    "\n",
    "        # Agrupamos respecto al año título del juego, contamos las recomendaciones('recommend') para tener los juegos con más reseñas negtivas y ordenamos de forma descendente\n",
    "        grupo = df_anio_dado.groupby('title')['recommend'].count().sort_values(ascending=False)\n",
    "\n",
    "        # Contruimos el top3\n",
    "        top3 = [{\"Puesto 1\": grupo.index[0]}, {\"Puesto 2\": grupo.index[1]}, {\"Puesto 3\": grupo.index[2]}]\n",
    "\n",
    "        return top3"
   ]
  },
  {
   "cell_type": "code",
   "execution_count": 32,
   "metadata": {},
   "outputs": [
    {
     "data": {
      "text/plain": [
       "[{'Puesto 1': 'And Yet It Moves'},\n",
       " {'Puesto 2': 'Team Fortress 2'},\n",
       " {'Puesto 3': 'Men of War: Vietnam'}]"
      ]
     },
     "execution_count": 32,
     "metadata": {},
     "output_type": "execute_result"
    }
   ],
   "source": [
    "UsersNotRecommend(2011)"
   ]
  },
  {
   "cell_type": "code",
   "execution_count": 30,
   "metadata": {},
   "outputs": [],
   "source": [
    "df=reviews_games[reviews_games['year_posted']>=reviews_games['year_release']]"
   ]
  },
  {
   "cell_type": "code",
   "execution_count": 26,
   "metadata": {},
   "outputs": [],
   "source": [
    "def sentiment_analysis(anio: int):\n",
    "    '''\n",
    "    Según el año de lanzamiento, devuelve una lista con la cantidad de registros de reseñas de usuarios que se encuentren categorizados con un análisis de sentimiento\n",
    "\n",
    "    Args: \n",
    "        anio (int): año de lanzamiento (year_release)\n",
    "\n",
    "    return:\n",
    "        list: lista con la cantidad de registros de reseñas de usuarios categorizados\n",
    "\n",
    "    '''\n",
    "    # Si el año de lanzamiento(year_release) no coincide con alguno de los años en los que se hace una reseña(year_posted), se retorna un mensaje de erro\n",
    "    if anio not in reviews_games['year_posted'].unique():\n",
    "        return f\"Año fuera de rango, ingrese un año válido\"\n",
    "    \n",
    "    else:\n",
    "        # Filtramos el dataframe con las filas cuyo año de posteo(year_posted) es mayor o igual al año de publicación(year_release)\n",
    "        df = reviews_games[reviews_games['year_posted']>=reviews_games['year_release']]\n",
    "\n",
    "        # Filtramos el dataframe 'df' para el año parámetro\n",
    "        df_anio = df[df['year_release'] == anio]\n",
    "\n",
    "        # Contamos las filas del dataframe 'df_anio' respecto a los valores únicos de la columna 'sentiment_analysis' {0,1,2} y los guardamos en sus respectivos sentimientos\n",
    "        positivos = df_anio[df_anio['sentiment_analysis']==2].shape[0] # número de filas de sentimientos positivos(2)\n",
    "        neutros = df_anio[df_anio['sentiment_analysis']==1].shape[0] # número de filas de sentimientos nneutros(1)\n",
    "        negativos = df_anio[df_anio['sentiment_analysis']==0].shape[0] # número de filas de sentimientos negativos(0)\n",
    "\n",
    "        return {'Negative': negativos, 'Neutral': neutros, 'Positive': positivos}"
   ]
  },
  {
   "cell_type": "code",
   "execution_count": 28,
   "metadata": {},
   "outputs": [
    {
     "data": {
      "text/plain": [
       "{'Negative': 3381, 'Neutral': 3493, 'Positive': 12330}"
      ]
     },
     "execution_count": 28,
     "metadata": {},
     "output_type": "execute_result"
    }
   ],
   "source": [
    "sentiment_analysis(2013)"
   ]
  }
 ],
 "metadata": {
  "kernelspec": {
   "display_name": "Python 3",
   "language": "python",
   "name": "python3"
  },
  "language_info": {
   "codemirror_mode": {
    "name": "ipython",
    "version": 3
   },
   "file_extension": ".py",
   "mimetype": "text/x-python",
   "name": "python",
   "nbconvert_exporter": "python",
   "pygments_lexer": "ipython3",
   "version": "3.11.3"
  }
 },
 "nbformat": 4,
 "nbformat_minor": 2
}
